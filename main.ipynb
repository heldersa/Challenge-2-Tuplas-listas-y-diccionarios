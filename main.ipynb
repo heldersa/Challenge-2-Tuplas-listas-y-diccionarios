{
 "cells": [
  {
   "cell_type": "markdown",
   "metadata": {},
   "source": [
    "# TUPLAS , LISTAS y DICCIONARIOS\n",
    "-----"
   ]
  },
  {
   "cell_type": "markdown",
   "metadata": {},
   "source": [
    "### TUPLAS"
   ]
  },
  {
   "cell_type": "markdown",
   "metadata": {},
   "source": [
    "Crea una tupla de un ***solo elemento*** (comma is the key...)"
   ]
  },
  {
   "cell_type": "code",
   "execution_count": 1,
   "metadata": {},
   "outputs": [],
   "source": [
    "tuplinha = ('a',)"
   ]
  },
  {
   "cell_type": "markdown",
   "metadata": {},
   "source": [
    "Comprueba el tipo de la variable que acabas de crear, debe ser ***tuple***"
   ]
  },
  {
   "cell_type": "code",
   "execution_count": 2,
   "metadata": {},
   "outputs": [
    {
     "data": {
      "text/plain": [
       "tuple"
      ]
     },
     "execution_count": 2,
     "metadata": {},
     "output_type": "execute_result"
    }
   ],
   "source": [
    "type(tuplinha)"
   ]
  },
  {
   "cell_type": "markdown",
   "metadata": {},
   "source": [
    "Añade un elemento a esta tupla de un solo elemento"
   ]
  },
  {
   "cell_type": "code",
   "execution_count": 3,
   "metadata": {},
   "outputs": [],
   "source": [
    "# Se puede si/no? porque?\n",
    "\n",
    "#no se puede añadir elementos a una tupla por su característica de imutablidad (immutable)"
   ]
  },
  {
   "cell_type": "markdown",
   "metadata": {},
   "source": [
    "Reasigna \"l\",\"a\",\"s\",\"t\",\"u\",\"p\",\"l\",\"a\",\"s\",\"m\",\"o\",\"l\",\"a\",\"n\" a la tupla que has declarado\n"
   ]
  },
  {
   "cell_type": "code",
   "execution_count": 4,
   "metadata": {},
   "outputs": [],
   "source": [
    "#Tu codigo aqui\n",
    "tuplinha = (\"l\",\"a\",\"s\",\"t\",\"u\",\"p\",\"l\",\"a\",\"s\",\"m\",\"o\",\"l\",\"a\",\"n\")"
   ]
  },
  {
   "cell_type": "markdown",
   "metadata": {},
   "source": [
    "Parte esa tuplas en 3 nuevas (1 por cada palabra)"
   ]
  },
  {
   "cell_type": "code",
   "execution_count": 5,
   "metadata": {},
   "outputs": [],
   "source": [
    "#Tu codigo aqui\n",
    "#de esta lista quiero hacer 3 tuplas nuevas\n",
    "\n",
    "t1=(\"l\",\"a\",\"s\")\n",
    "t2=(\"t\",\"u\",\"p\",\"l\",\"a\",\"s\")\n",
    "t3=(\"m\",\"o\",\"l\",\"a\",\"n\")\n"
   ]
  },
  {
   "cell_type": "markdown",
   "metadata": {},
   "source": [
    "Crea un código que compruebe si el número de elementos en las 3 tuplas juntas es igual a la suma de los elementos dentro de cada tupla"
   ]
  },
  {
   "cell_type": "code",
   "execution_count": 6,
   "metadata": {},
   "outputs": [
    {
     "data": {
      "text/plain": [
       "True"
      ]
     },
     "execution_count": 6,
     "metadata": {},
     "output_type": "execute_result"
    }
   ],
   "source": [
    "#Tu codigo aqui\n",
    "len(t1) + len(t2) + len(t3) == len(t1+t2+t3)"
   ]
  },
  {
   "cell_type": "markdown",
   "metadata": {},
   "source": [
    "Genera una 2 listas (pares e impares), debes recorrer la tupla y añadir los elementos a cada lista en funciónde si su índice es par o impar"
   ]
  },
  {
   "cell_type": "code",
   "execution_count": 7,
   "metadata": {},
   "outputs": [
    {
     "name": "stdout",
     "output_type": "stream",
     "text": [
      "[0, 2, 4, 6, 8, 10, 12]\n",
      "[1, 3, 5, 7, 9, 11, 13]\n"
     ]
    }
   ],
   "source": [
    "#Tu codigo aqui\n",
    "\n",
    "lstpar=[]\n",
    "lstimpar=[]\n",
    "\n",
    "for i in range(len(tuplinha)):\n",
    "    if i %2==0:\n",
    "        lstpar.append(i)\n",
    "    else:\n",
    "        lstimpar.append(i)\n",
    "\n",
    "print(lstpar)\n",
    "print(lstimpar)"
   ]
  },
  {
   "cell_type": "markdown",
   "metadata": {},
   "source": [
    "Usa un bucle para comprobar si los elmentos de la lista =[\"n\",\"u\",\"s\",\"l\",\"c\",\"b\",\"x\",\"t\",\"n\"], están presentes en la tupla completa"
   ]
  },
  {
   "cell_type": "code",
   "execution_count": 8,
   "metadata": {},
   "outputs": [
    {
     "name": "stdout",
     "output_type": "stream",
     "text": [
      " soy el n de la lista y pertenezco a la tupla\n",
      " soy el u de la lista y pertenezco a la tupla\n",
      " soy el s de la lista y pertenezco a la tupla\n",
      " soy el l de la lista y pertenezco a la tupla\n",
      " soy el c de la lista y no pertenezco a la tupla\n",
      " soy el b de la lista y no pertenezco a la tupla\n",
      " soy el x de la lista y no pertenezco a la tupla\n",
      " soy el t de la lista y pertenezco a la tupla\n",
      " soy el n de la lista y pertenezco a la tupla\n"
     ]
    }
   ],
   "source": [
    "#Tu codigo aqui\n",
    "\n",
    "lista1 =[\"n\",\"u\",\"s\",\"l\",\"c\",\"b\",\"x\",\"t\",\"n\"]\n",
    "\n",
    "for i in lista1:\n",
    "    if i in tuplinha:\n",
    "        a='pertenezco a la tupla'\n",
    "    else:\n",
    "        a='no pertenezco a la tupla'\n",
    "    print(f' soy el {i} de la lista y {a}') "
   ]
  },
  {
   "cell_type": "markdown",
   "metadata": {},
   "source": [
    "Saca por pantalla el número de veces que aparece cada elemento de la lista, si no existe el elemento debe mostrar el mensaje \"La letra***nombre_de_la_letra*** no está en la tupla\""
   ]
  },
  {
   "cell_type": "code",
   "execution_count": 9,
   "metadata": {},
   "outputs": [
    {
     "name": "stdout",
     "output_type": "stream",
     "text": [
      " La letra s esta en la tupla y se repite 2 veces\n",
      " La letra l esta en la tupla y se repite 3 veces\n",
      " La letra n esta en la tupla y se repite 1 vez\n",
      " La letra t esta en la tupla y se repite 1 vez\n",
      " La letra x no esta en la tupla\n",
      " La letra u esta en la tupla y se repite 1 vez\n",
      " La letra c no esta en la tupla\n",
      " La letra b no esta en la tupla\n"
     ]
    }
   ],
   "source": [
    "for i in set(lista1):\n",
    "    if i not in tuplinha:\n",
    "        a='no esta en la tupla'\n",
    "    else:\n",
    "        if tuplinha.count(i) == 1:\n",
    "            a= f'esta en la tupla y se repite {tuplinha.count(i)} vez' \n",
    "        else:\n",
    "            a= f'esta en la tupla y se repite {tuplinha.count(i)} veces'\n",
    "    print(f' La letra {i} {a}') \n",
    "    "
   ]
  },
  {
   "cell_type": "markdown",
   "metadata": {},
   "source": [
    "## SETS"
   ]
  },
  {
   "cell_type": "markdown",
   "metadata": {},
   "source": [
    "Os dejo este pequeño resumen sobre los sets para que lo tengáis a mano durante los ejercicios. ![enlace] (https://www.w3schools.com/python/python_sets.asp)"
   ]
  },
  {
   "cell_type": "markdown",
   "metadata": {},
   "source": [
    "Para esta parte usaremos la libreria *random* que ya hemos visto en clase."
   ]
  },
  {
   "cell_type": "markdown",
   "metadata": {},
   "source": [
    "Crea una lista llamada ***muestra***:\n",
    "- Debe estar compuesta por 80 elementos\n",
    "- Los elementos deben ser enteros entre 0 y 200"
   ]
  },
  {
   "cell_type": "markdown",
   "metadata": {},
   "source": [
    "Pista: random.sample --> [enlace](https://docs.python.org/es/3/library/random.html#random.sample)"
   ]
  },
  {
   "cell_type": "code",
   "execution_count": 10,
   "metadata": {},
   "outputs": [
    {
     "data": {
      "text/plain": [
       "[198,\n",
       " 15,\n",
       " 132,\n",
       " 183,\n",
       " 188,\n",
       " 30,\n",
       " 166,\n",
       " 68,\n",
       " 113,\n",
       " 40,\n",
       " 186,\n",
       " 5,\n",
       " 199,\n",
       " 73,\n",
       " 192,\n",
       " 83,\n",
       " 93,\n",
       " 129,\n",
       " 23,\n",
       " 88,\n",
       " 78,\n",
       " 148,\n",
       " 6,\n",
       " 41,\n",
       " 67,\n",
       " 51,\n",
       " 94,\n",
       " 46,\n",
       " 49,\n",
       " 25,\n",
       " 7,\n",
       " 99,\n",
       " 200,\n",
       " 156,\n",
       " 74,\n",
       " 147,\n",
       " 66,\n",
       " 24,\n",
       " 130,\n",
       " 87,\n",
       " 115,\n",
       " 54,\n",
       " 117,\n",
       " 175,\n",
       " 142,\n",
       " 143,\n",
       " 77,\n",
       " 100,\n",
       " 181,\n",
       " 42,\n",
       " 50,\n",
       " 161,\n",
       " 182,\n",
       " 85,\n",
       " 80,\n",
       " 71,\n",
       " 123,\n",
       " 90,\n",
       " 158,\n",
       " 171,\n",
       " 172,\n",
       " 168,\n",
       " 173,\n",
       " 184,\n",
       " 75,\n",
       " 178,\n",
       " 59,\n",
       " 120,\n",
       " 39,\n",
       " 136,\n",
       " 76,\n",
       " 150,\n",
       " 48,\n",
       " 35,\n",
       " 8,\n",
       " 179,\n",
       " 79,\n",
       " 102,\n",
       " 154,\n",
       " 37]"
      ]
     },
     "execution_count": 10,
     "metadata": {},
     "output_type": "execute_result"
    }
   ],
   "source": [
    "#Tu código aquí\n",
    "import random\n",
    "\n",
    "muestra = random.sample(range(0,201),80)\n",
    "\n",
    "muestra"
   ]
  },
  {
   "cell_type": "markdown",
   "metadata": {},
   "source": [
    "Convierte tu lista en un set, llámalo set1 y comprueba si tiene el mismo numero de elementos que la lista original"
   ]
  },
  {
   "cell_type": "code",
   "execution_count": 11,
   "metadata": {},
   "outputs": [
    {
     "data": {
      "text/plain": [
       "True"
      ]
     },
     "execution_count": 11,
     "metadata": {},
     "output_type": "execute_result"
    }
   ],
   "source": [
    "#Tu código aquí\n",
    "set1 = set(muestra)\n",
    "\n",
    "len(set1) == len(muestra)"
   ]
  },
  {
   "cell_type": "markdown",
   "metadata": {},
   "source": [
    "Crea una segunda lista de 100 elementos , ahora usa un bucle for junto con la librería random."
   ]
  },
  {
   "cell_type": "code",
   "execution_count": 12,
   "metadata": {},
   "outputs": [
    {
     "data": {
      "text/plain": [
       "[122,\n",
       " 81,\n",
       " 117,\n",
       " 164,\n",
       " 182,\n",
       " 178,\n",
       " 76,\n",
       " 68,\n",
       " 63,\n",
       " 187,\n",
       " 119,\n",
       " 182,\n",
       " 170,\n",
       " 13,\n",
       " 30,\n",
       " 29,\n",
       " 74,\n",
       " 185,\n",
       " 53,\n",
       " 23,\n",
       " 56,\n",
       " 69,\n",
       " 15,\n",
       " 107,\n",
       " 126,\n",
       " 31,\n",
       " 16,\n",
       " 135,\n",
       " 1,\n",
       " 105,\n",
       " 47,\n",
       " 14,\n",
       " 101,\n",
       " 36,\n",
       " 29,\n",
       " 98,\n",
       " 171,\n",
       " 105,\n",
       " 141,\n",
       " 148,\n",
       " 136,\n",
       " 186,\n",
       " 181,\n",
       " 114,\n",
       " 166,\n",
       " 101,\n",
       " 178,\n",
       " 164,\n",
       " 30,\n",
       " 71,\n",
       " 2,\n",
       " 13,\n",
       " 162,\n",
       " 14,\n",
       " 134,\n",
       " 130,\n",
       " 71,\n",
       " 74,\n",
       " 43,\n",
       " 52,\n",
       " 93,\n",
       " 32,\n",
       " 7,\n",
       " 150,\n",
       " 37,\n",
       " 150,\n",
       " 183,\n",
       " 60,\n",
       " 80,\n",
       " 192,\n",
       " 147,\n",
       " 164,\n",
       " 91,\n",
       " 83,\n",
       " 78,\n",
       " 47,\n",
       " 35,\n",
       " 131,\n",
       " 109,\n",
       " 81,\n",
       " 44,\n",
       " 15,\n",
       " 106,\n",
       " 95,\n",
       " 29,\n",
       " 119,\n",
       " 17,\n",
       " 109,\n",
       " 190,\n",
       " 100,\n",
       " 81,\n",
       " 73,\n",
       " 107,\n",
       " 124,\n",
       " 41,\n",
       " 48,\n",
       " 51,\n",
       " 101,\n",
       " 26,\n",
       " 35]"
      ]
     },
     "execution_count": 12,
     "metadata": {},
     "output_type": "execute_result"
    }
   ],
   "source": [
    "#Tu código aquí\n",
    "lst2 = []\n",
    "for i in range(0,100):\n",
    "    lst2.append(int(random.random()*200))\n",
    "\n",
    "lst2"
   ]
  },
  {
   "cell_type": "markdown",
   "metadata": {},
   "source": [
    "Convierte la segunda lista en un set y llámalo set2, compruba su loongitud"
   ]
  },
  {
   "cell_type": "code",
   "execution_count": 13,
   "metadata": {},
   "outputs": [
    {
     "data": {
      "text/plain": [
       "77"
      ]
     },
     "execution_count": 13,
     "metadata": {},
     "output_type": "execute_result"
    }
   ],
   "source": [
    "#Tu código aquí\n",
    "set2=set(lst2)\n",
    "\n",
    "len(set2)"
   ]
  },
  {
   "cell_type": "markdown",
   "metadata": {},
   "source": [
    "Crea un nuevo set3 compuesto por los elementos que son comunes en set1 y set2"
   ]
  },
  {
   "cell_type": "code",
   "execution_count": 14,
   "metadata": {},
   "outputs": [
    {
     "data": {
      "text/plain": [
       "{7,\n",
       " 15,\n",
       " 23,\n",
       " 30,\n",
       " 35,\n",
       " 37,\n",
       " 41,\n",
       " 48,\n",
       " 51,\n",
       " 68,\n",
       " 71,\n",
       " 73,\n",
       " 74,\n",
       " 76,\n",
       " 78,\n",
       " 80,\n",
       " 83,\n",
       " 93,\n",
       " 100,\n",
       " 117,\n",
       " 130,\n",
       " 136,\n",
       " 147,\n",
       " 148,\n",
       " 150,\n",
       " 166,\n",
       " 171,\n",
       " 178,\n",
       " 181,\n",
       " 182,\n",
       " 183,\n",
       " 186,\n",
       " 192}"
      ]
     },
     "execution_count": 14,
     "metadata": {},
     "output_type": "execute_result"
    }
   ],
   "source": [
    "#metodo prueba\n",
    "\n",
    "setx = set1.intersection(set2)\n",
    "setx"
   ]
  },
  {
   "cell_type": "code",
   "execution_count": 15,
   "metadata": {},
   "outputs": [
    {
     "data": {
      "text/plain": [
       "{7,\n",
       " 15,\n",
       " 23,\n",
       " 30,\n",
       " 35,\n",
       " 37,\n",
       " 41,\n",
       " 48,\n",
       " 51,\n",
       " 68,\n",
       " 71,\n",
       " 73,\n",
       " 74,\n",
       " 76,\n",
       " 78,\n",
       " 80,\n",
       " 83,\n",
       " 93,\n",
       " 100,\n",
       " 117,\n",
       " 130,\n",
       " 136,\n",
       " 147,\n",
       " 148,\n",
       " 150,\n",
       " 166,\n",
       " 171,\n",
       " 178,\n",
       " 181,\n",
       " 182,\n",
       " 183,\n",
       " 186,\n",
       " 192}"
      ]
     },
     "execution_count": 15,
     "metadata": {},
     "output_type": "execute_result"
    }
   ],
   "source": [
    "#Tu código aquí\n",
    "lst4=[]\n",
    "for i in set1:\n",
    "    if i in set2:\n",
    "        lst4.append(i)\n",
    "set3 = set(lst4)\n",
    "set3"
   ]
  },
  {
   "cell_type": "code",
   "execution_count": 16,
   "metadata": {},
   "outputs": [
    {
     "data": {
      "text/plain": [
       "True"
      ]
     },
     "execution_count": 16,
     "metadata": {},
     "output_type": "execute_result"
    }
   ],
   "source": [
    "#confirmacion de metodos\n",
    "setx == set3"
   ]
  },
  {
   "cell_type": "markdown",
   "metadata": {},
   "source": [
    "Crea un set4 compuesto por lo elementos que están en set1 pero no en set2"
   ]
  },
  {
   "cell_type": "code",
   "execution_count": 17,
   "metadata": {},
   "outputs": [
    {
     "data": {
      "text/plain": [
       "{5,\n",
       " 6,\n",
       " 8,\n",
       " 24,\n",
       " 25,\n",
       " 39,\n",
       " 40,\n",
       " 42,\n",
       " 46,\n",
       " 49,\n",
       " 50,\n",
       " 54,\n",
       " 59,\n",
       " 66,\n",
       " 67,\n",
       " 75,\n",
       " 77,\n",
       " 79,\n",
       " 85,\n",
       " 87,\n",
       " 88,\n",
       " 90,\n",
       " 94,\n",
       " 99,\n",
       " 102,\n",
       " 113,\n",
       " 115,\n",
       " 120,\n",
       " 123,\n",
       " 129,\n",
       " 132,\n",
       " 142,\n",
       " 143,\n",
       " 154,\n",
       " 156,\n",
       " 158,\n",
       " 161,\n",
       " 168,\n",
       " 172,\n",
       " 173,\n",
       " 175,\n",
       " 179,\n",
       " 184,\n",
       " 188,\n",
       " 198,\n",
       " 199,\n",
       " 200}"
      ]
     },
     "execution_count": 17,
     "metadata": {},
     "output_type": "execute_result"
    }
   ],
   "source": [
    "#Tu código aquí\n",
    "set4 = set1.difference(set2)\n",
    "set4"
   ]
  },
  {
   "cell_type": "markdown",
   "metadata": {},
   "source": [
    "Crea un set vacío llamado set5, añade los elementos de set1 y set3 a este nuevo set usando los métodos de los sets"
   ]
  },
  {
   "cell_type": "code",
   "execution_count": 18,
   "metadata": {},
   "outputs": [
    {
     "data": {
      "text/plain": [
       "{5,\n",
       " 6,\n",
       " 7,\n",
       " 8,\n",
       " 15,\n",
       " 23,\n",
       " 24,\n",
       " 25,\n",
       " 30,\n",
       " 35,\n",
       " 37,\n",
       " 39,\n",
       " 40,\n",
       " 41,\n",
       " 42,\n",
       " 46,\n",
       " 48,\n",
       " 49,\n",
       " 50,\n",
       " 51,\n",
       " 54,\n",
       " 59,\n",
       " 66,\n",
       " 67,\n",
       " 68,\n",
       " 71,\n",
       " 73,\n",
       " 74,\n",
       " 75,\n",
       " 76,\n",
       " 77,\n",
       " 78,\n",
       " 79,\n",
       " 80,\n",
       " 83,\n",
       " 85,\n",
       " 87,\n",
       " 88,\n",
       " 90,\n",
       " 93,\n",
       " 94,\n",
       " 99,\n",
       " 100,\n",
       " 102,\n",
       " 113,\n",
       " 115,\n",
       " 117,\n",
       " 120,\n",
       " 123,\n",
       " 129,\n",
       " 130,\n",
       " 132,\n",
       " 136,\n",
       " 142,\n",
       " 143,\n",
       " 147,\n",
       " 148,\n",
       " 150,\n",
       " 154,\n",
       " 156,\n",
       " 158,\n",
       " 161,\n",
       " 166,\n",
       " 168,\n",
       " 171,\n",
       " 172,\n",
       " 173,\n",
       " 175,\n",
       " 178,\n",
       " 179,\n",
       " 181,\n",
       " 182,\n",
       " 183,\n",
       " 184,\n",
       " 186,\n",
       " 188,\n",
       " 192,\n",
       " 198,\n",
       " 199,\n",
       " 200}"
      ]
     },
     "execution_count": 18,
     "metadata": {},
     "output_type": "execute_result"
    }
   ],
   "source": [
    "#Tu código aquí\n",
    "set5=set()\n",
    "set5.update(set1)\n",
    "set5.update(set3)\n",
    "set5"
   ]
  },
  {
   "cell_type": "markdown",
   "metadata": {},
   "source": [
    "Compruba si el set1 contiene al set2"
   ]
  },
  {
   "cell_type": "code",
   "execution_count": 19,
   "metadata": {},
   "outputs": [
    {
     "data": {
      "text/plain": [
       "False"
      ]
     },
     "execution_count": 19,
     "metadata": {},
     "output_type": "execute_result"
    }
   ],
   "source": [
    "#Tu código aquí\n",
    "set2 in set1"
   ]
  },
  {
   "cell_type": "markdown",
   "metadata": {},
   "source": [
    "Tomando como referencia esta lista = [1, 9, 11, 19, 21, 29, 31, 39, 41, 49, 51, 59, 61, 69, 71, 79, 81, 89, 91, 99], elimina los elementos del set5 que están en la lista."
   ]
  },
  {
   "cell_type": "code",
   "execution_count": 20,
   "metadata": {
    "scrolled": true
   },
   "outputs": [
    {
     "data": {
      "text/plain": [
       "{5,\n",
       " 6,\n",
       " 7,\n",
       " 8,\n",
       " 15,\n",
       " 23,\n",
       " 24,\n",
       " 25,\n",
       " 30,\n",
       " 35,\n",
       " 37,\n",
       " 40,\n",
       " 42,\n",
       " 46,\n",
       " 48,\n",
       " 50,\n",
       " 54,\n",
       " 66,\n",
       " 67,\n",
       " 68,\n",
       " 73,\n",
       " 74,\n",
       " 75,\n",
       " 76,\n",
       " 77,\n",
       " 78,\n",
       " 80,\n",
       " 83,\n",
       " 85,\n",
       " 87,\n",
       " 88,\n",
       " 90,\n",
       " 93,\n",
       " 94,\n",
       " 100,\n",
       " 102,\n",
       " 113,\n",
       " 115,\n",
       " 117,\n",
       " 120,\n",
       " 123,\n",
       " 129,\n",
       " 130,\n",
       " 132,\n",
       " 136,\n",
       " 142,\n",
       " 143,\n",
       " 147,\n",
       " 148,\n",
       " 150,\n",
       " 154,\n",
       " 156,\n",
       " 158,\n",
       " 161,\n",
       " 166,\n",
       " 168,\n",
       " 171,\n",
       " 172,\n",
       " 173,\n",
       " 175,\n",
       " 178,\n",
       " 179,\n",
       " 181,\n",
       " 182,\n",
       " 183,\n",
       " 184,\n",
       " 186,\n",
       " 188,\n",
       " 192,\n",
       " 198,\n",
       " 199,\n",
       " 200}"
      ]
     },
     "execution_count": 20,
     "metadata": {},
     "output_type": "execute_result"
    }
   ],
   "source": [
    "#Tu código aquí\n",
    "lista33 = [1, 9, 11, 19, 21, 29, 31, 39, 41, 49, 51, 59, 61, 69, 71, 79, 81, 89, 91, 99]\n",
    "lista33= set(lista33)\n",
    "set5.difference_update(lista33)\n",
    "set5"
   ]
  },
  {
   "cell_type": "markdown",
   "metadata": {},
   "source": [
    "Elimina los elementos del set3, que están en la lista del ejemplo anterior, pero que no están en el set1"
   ]
  },
  {
   "cell_type": "code",
   "execution_count": 21,
   "metadata": {},
   "outputs": [
    {
     "data": {
      "text/plain": [
       "{7,\n",
       " 15,\n",
       " 23,\n",
       " 30,\n",
       " 35,\n",
       " 37,\n",
       " 41,\n",
       " 48,\n",
       " 51,\n",
       " 68,\n",
       " 71,\n",
       " 73,\n",
       " 74,\n",
       " 76,\n",
       " 78,\n",
       " 80,\n",
       " 83,\n",
       " 93,\n",
       " 100,\n",
       " 117,\n",
       " 130,\n",
       " 136,\n",
       " 147,\n",
       " 148,\n",
       " 150,\n",
       " 166,\n",
       " 171,\n",
       " 178,\n",
       " 181,\n",
       " 182,\n",
       " 183,\n",
       " 186,\n",
       " 192}"
      ]
     },
     "execution_count": 21,
     "metadata": {},
     "output_type": "execute_result"
    }
   ],
   "source": [
    "x=set(lista33).difference(set1)\n",
    "set3.difference_update(x)\n",
    "set3"
   ]
  },
  {
   "cell_type": "markdown",
   "metadata": {},
   "source": [
    "## DICCIONARIOS"
   ]
  },
  {
   "cell_type": "markdown",
   "metadata": {},
   "source": [
    "Para el ejercicio lo primero vamos a cargar en una variable llamada **texto** el contenido del archivo \"texto.txt\" que os he dejado en el repositorio."
   ]
  },
  {
   "cell_type": "code",
   "execution_count": 22,
   "metadata": {},
   "outputs": [],
   "source": [
    "contenido = open(\"texto.txt\", \"r\") #abre el archivo en modo lectura\n",
    "texto = contenido.read() #lee el archivo y lo guarda en la variable texto"
   ]
  },
  {
   "cell_type": "code",
   "execution_count": 23,
   "metadata": {},
   "outputs": [
    {
     "name": "stdout",
     "output_type": "stream",
     "text": [
      "Ya suenan los tambores\n",
      "Siente la vibración\n",
      "Son niños de las flores\n",
      "Es la revolución\n",
      "Verano del amor\n",
      "Y un cóctel molotov\n",
      "Verano del amor\n",
      "Y un cóctel molotov\n",
      "Ya suenan los tambores\n",
      "Siente la vibración\n",
      "Son niños de las flores\n",
      "Es la revolución\n",
      "Verano del amor\n",
      "Y un cóctel molotov\n",
      "Verano del amor\n",
      "Y un cóctel molotov\n",
      "Mi sonrisa ondea en son de paz\n",
      "Aunque propios y extraños me miren mal\n",
      "Genera tanta luz\n",
      "Que suele deslumbrar\n",
      "Aunque haya subido el nivel del mar\n",
      "Y está retrocediendo otro glaciar\n",
      "A ellos les va bien\n",
      "Y siguen dando gas\n",
      "Disfrutan del otoño tropical\n",
      "Están en la playita y les parece genial\n",
      "Este calor no es normal\n",
      "Están morenos del calentamiento global\n",
      "Ya suenan los tambores\n",
      "Siente la vibración\n",
      "Son niños de las flores\n",
      "Es la revolución\n",
      "Verano del amor\n",
      "Y un cóctel molotov\n",
      "Verano del amor\n",
      "Y un cóctel molotov\n",
      "Yo no soy violento, ya lo sabéis\n",
      "Pero estoy tan cansado de que no escuchéis\n",
      "Que empiezo a dudar\n",
      "No sé muy bien qué hacer\n",
      "Se abren paragüas en Hong Kong\n",
      "En Chile, en Bolivia, en Ecuador\n",
      "Con fuegos de pasión y de contenedor\n",
      "Y aportarán paz y amor\n",
      "Aquí lo que hace falta es un poco de acción\n",
      "Hay que elegir con convicción\n",
      "El lado de la historia en que estaremos tú y yo\n",
      "Ya suenan los tambores\n",
      "Siente la vibración\n",
      "Son niños de las flores\n",
      "Es la revolución\n",
      "Verano del amor\n",
      "Y un cóctel molotov\n",
      "Verano del amor\n",
      "Y un cóctel molotov\n",
      "Basta ya\n",
      "Mis palabras se han vuelto adoquines\n",
      "¿Dónde estás?\n",
      "Han llegado antidisturbios\n",
      "Con gases, con escudos\n",
      "Y como vas tapada no te puedo encontrar\n",
      "Ya suenan los tambores\n",
      "Siente la vibración\n",
      "Son niños de las flores\n",
      "Es la revolución\n",
      "Verano del amor\n",
      "Y un cóctel molotov\n",
      "Verano del amor\n",
      "Y un cóctel molotov\n",
      "Ya suenan los tambores\n",
      "Siente la vibración\n",
      "Son niños de las flores\n",
      "Es la revolución\n",
      "Verano del amor\n",
      "Y un cóctel molotov\n",
      "Verano del amor\n",
      "Y un cóctel molotov\n",
      "Ya suenan los tambores\n",
      "Siente la vibración\n",
      "Son niños de las flores\n",
      "Es la revolución\n",
      "Verano del amor\n",
      "Y un cóctel molotov\n",
      "Verano del amor\n",
      "Y un cóctel molotov\n",
      "Ya suenan los tambores\n",
      "Siente la vibración\n",
      "Son niños de las flores\n",
      "Es la revolución\n",
      "Verano del amor\n",
      "Y un cóctel molotov\n",
      "Verano del amor\n",
      "Y un cóctel molotov\n"
     ]
    }
   ],
   "source": [
    "print(texto)"
   ]
  },
  {
   "cell_type": "markdown",
   "metadata": {},
   "source": [
    "Nuestra variable tienen el contenido del archivo y si hacemos un print, parece que está todo ok....pero no."
   ]
  },
  {
   "cell_type": "code",
   "execution_count": 24,
   "metadata": {},
   "outputs": [
    {
     "data": {
      "text/plain": [
       "str"
      ]
     },
     "execution_count": 24,
     "metadata": {},
     "output_type": "execute_result"
    }
   ],
   "source": [
    "type(texto)"
   ]
  },
  {
   "cell_type": "markdown",
   "metadata": {},
   "source": [
    "Es una string.\n",
    "Veamos como es realmente:"
   ]
  },
  {
   "cell_type": "code",
   "execution_count": 25,
   "metadata": {},
   "outputs": [
    {
     "data": {
      "text/plain": [
       "'Ya suenan los tambores\\nSiente la vibración\\nSon niños de las flores\\nEs la revolución\\nVerano del amor\\n'"
      ]
     },
     "execution_count": 25,
     "metadata": {},
     "output_type": "execute_result"
    }
   ],
   "source": [
    "texto[:100] #imprime los primeros 100 caracteres del texto, tenemos mucho salto de linea verdad?"
   ]
  },
  {
   "cell_type": "markdown",
   "metadata": {},
   "source": [
    "Limpia la cadena y elimina los saltos de línea"
   ]
  },
  {
   "cell_type": "code",
   "execution_count": 26,
   "metadata": {},
   "outputs": [
    {
     "data": {
      "text/plain": [
       "'Ya suenan los tambores Siente la vibración Son niños de las flores Es la revolución Verano del amor Y un cóctel molotov Verano del amor Y un cóctel molotov Ya suenan los tambores Siente la vibración Son niños de las flores Es la revolución Verano del amor Y un cóctel molotov Verano del amor Y un cóctel molotov Mi sonrisa ondea en son de paz Aunque propios y extraños me miren mal Genera tanta luz Que suele deslumbrar Aunque haya subido el nivel del mar Y está retrocediendo otro glaciar A ellos les va bien Y siguen dando gas Disfrutan del otoño tropical Están en la playita y les parece genial Este calor no es normal Están morenos del calentamiento global Ya suenan los tambores Siente la vibración Son niños de las flores Es la revolución Verano del amor Y un cóctel molotov Verano del amor Y un cóctel molotov Yo no soy violento, ya lo sabéis Pero estoy tan cansado de que no escuchéis Que empiezo a dudar No sé muy bien qué hacer Se abren paragüas en Hong Kong En Chile, en Bolivia, en Ecuador Con fuegos de pasión y de contenedor Y aportarán paz y amor Aquí lo que hace falta es un poco de acción Hay que elegir con convicción El lado de la historia en que estaremos tú y yo Ya suenan los tambores Siente la vibración Son niños de las flores Es la revolución Verano del amor Y un cóctel molotov Verano del amor Y un cóctel molotov Basta ya Mis palabras se han vuelto adoquines ¿Dónde estás? Han llegado antidisturbios Con gases, con escudos Y como vas tapada no te puedo encontrar Ya suenan los tambores Siente la vibración Son niños de las flores Es la revolución Verano del amor Y un cóctel molotov Verano del amor Y un cóctel molotov Ya suenan los tambores Siente la vibración Son niños de las flores Es la revolución Verano del amor Y un cóctel molotov Verano del amor Y un cóctel molotov Ya suenan los tambores Siente la vibración Son niños de las flores Es la revolución Verano del amor Y un cóctel molotov Verano del amor Y un cóctel molotov Ya suenan los tambores Siente la vibración Son niños de las flores Es la revolución Verano del amor Y un cóctel molotov Verano del amor Y un cóctel molotov'"
      ]
     },
     "execution_count": 26,
     "metadata": {},
     "output_type": "execute_result"
    }
   ],
   "source": [
    "#reemplaza los saltos de linea por espacios, si lo cambiaras por nada, se eliminarian, y estaríamos juntando palabras OJO!\n",
    "texto = texto.replace('\\n',' ')\n",
    "\n",
    "texto"
   ]
  },
  {
   "cell_type": "markdown",
   "metadata": {},
   "source": [
    "Vamos a ver cuales son las palabras más repetidas a lo largo del texto, para ello vamos a crear un diccionario que contenga como clave cada una de las palabras del texto y como valor el número de veces que aparece esa palabra en el texto."
   ]
  },
  {
   "cell_type": "code",
   "execution_count": 27,
   "metadata": {},
   "outputs": [
    {
     "data": {
      "text/plain": [
       "{'Ya': 8,\n",
       " 'suenan': 8,\n",
       " 'los': 8,\n",
       " 'tambores': 8,\n",
       " 'Siente': 8,\n",
       " 'la': 18,\n",
       " 'vibración': 8,\n",
       " 'Son': 8,\n",
       " 'niños': 8,\n",
       " 'de': 14,\n",
       " 'las': 8,\n",
       " 'flores': 8,\n",
       " 'Es': 8,\n",
       " 'revolución': 8,\n",
       " 'Verano': 16,\n",
       " 'del': 19,\n",
       " 'amor': 17,\n",
       " 'Y': 20,\n",
       " 'un': 17,\n",
       " 'cóctel': 16,\n",
       " 'molotov': 16,\n",
       " 'Mi': 1,\n",
       " 'sonrisa': 1,\n",
       " 'ondea': 1,\n",
       " 'en': 6,\n",
       " 'son': 1,\n",
       " 'paz': 2,\n",
       " 'Aunque': 2,\n",
       " 'propios': 1,\n",
       " 'y': 5,\n",
       " 'extraños': 1,\n",
       " 'me': 1,\n",
       " 'miren': 1,\n",
       " 'mal': 1,\n",
       " 'Genera': 1,\n",
       " 'tanta': 1,\n",
       " 'luz': 1,\n",
       " 'Que': 2,\n",
       " 'suele': 1,\n",
       " 'deslumbrar': 1,\n",
       " 'haya': 1,\n",
       " 'subido': 1,\n",
       " 'el': 1,\n",
       " 'nivel': 1,\n",
       " 'mar': 1,\n",
       " 'está': 1,\n",
       " 'retrocediendo': 1,\n",
       " 'otro': 1,\n",
       " 'glaciar': 1,\n",
       " 'A': 1,\n",
       " 'ellos': 1,\n",
       " 'les': 2,\n",
       " 'va': 1,\n",
       " 'bien': 2,\n",
       " 'siguen': 1,\n",
       " 'dando': 1,\n",
       " 'gas': 1,\n",
       " 'Disfrutan': 1,\n",
       " 'otoño': 1,\n",
       " 'tropical': 1,\n",
       " 'Están': 2,\n",
       " 'playita': 1,\n",
       " 'parece': 1,\n",
       " 'genial': 1,\n",
       " 'Este': 1,\n",
       " 'calor': 1,\n",
       " 'no': 4,\n",
       " 'es': 2,\n",
       " 'normal': 1,\n",
       " 'morenos': 1,\n",
       " 'calentamiento': 1,\n",
       " 'global': 1,\n",
       " 'Yo': 1,\n",
       " 'soy': 1,\n",
       " 'violento,': 1,\n",
       " 'ya': 2,\n",
       " 'lo': 2,\n",
       " 'sabéis': 1,\n",
       " 'Pero': 1,\n",
       " 'estoy': 1,\n",
       " 'tan': 1,\n",
       " 'cansado': 1,\n",
       " 'que': 4,\n",
       " 'escuchéis': 1,\n",
       " 'empiezo': 1,\n",
       " 'a': 1,\n",
       " 'dudar': 1,\n",
       " 'No': 1,\n",
       " 'sé': 1,\n",
       " 'muy': 1,\n",
       " 'qué': 1,\n",
       " 'hacer': 1,\n",
       " 'Se': 1,\n",
       " 'abren': 1,\n",
       " 'paragüas': 1,\n",
       " 'Hong': 1,\n",
       " 'Kong': 1,\n",
       " 'En': 1,\n",
       " 'Chile,': 1,\n",
       " 'Bolivia,': 1,\n",
       " 'Ecuador': 1,\n",
       " 'Con': 2,\n",
       " 'fuegos': 1,\n",
       " 'pasión': 1,\n",
       " 'contenedor': 1,\n",
       " 'aportarán': 1,\n",
       " 'Aquí': 1,\n",
       " 'hace': 1,\n",
       " 'falta': 1,\n",
       " 'poco': 1,\n",
       " 'acción': 1,\n",
       " 'Hay': 1,\n",
       " 'elegir': 1,\n",
       " 'con': 2,\n",
       " 'convicción': 1,\n",
       " 'El': 1,\n",
       " 'lado': 1,\n",
       " 'historia': 1,\n",
       " 'estaremos': 1,\n",
       " 'tú': 1,\n",
       " 'yo': 1,\n",
       " 'Basta': 1,\n",
       " 'Mis': 1,\n",
       " 'palabras': 1,\n",
       " 'se': 1,\n",
       " 'han': 1,\n",
       " 'vuelto': 1,\n",
       " 'adoquines': 1,\n",
       " '¿Dónde': 1,\n",
       " 'estás?': 1,\n",
       " 'Han': 1,\n",
       " 'llegado': 1,\n",
       " 'antidisturbios': 1,\n",
       " 'gases,': 1,\n",
       " 'escudos': 1,\n",
       " 'como': 1,\n",
       " 'vas': 1,\n",
       " 'tapada': 1,\n",
       " 'te': 1,\n",
       " 'puedo': 1,\n",
       " 'encontrar': 1}"
      ]
     },
     "execution_count": 27,
     "metadata": {},
     "output_type": "execute_result"
    }
   ],
   "source": [
    "dicc={}\n",
    "lst44 = texto.split()\n",
    "\n",
    "for i in lst44:\n",
    "    dicc.update({i: lst44.count(i)})\n",
    "    \n",
    "dicc\n",
    "#he reparado que había diferencia case sensitive"
   ]
  },
  {
   "cell_type": "markdown",
   "metadata": {},
   "source": [
    "Ahora vamos a ordenar el diccionario por el número de apariciones de mayor a menor, tendremos que investigar un poco como hacerlo."
   ]
  },
  {
   "cell_type": "code",
   "execution_count": 28,
   "metadata": {},
   "outputs": [],
   "source": [
    "#Tu código aquí\n",
    "dicc1 = dict(sorted(dicc.items(), key=lambda item: item[1], reverse=True))"
   ]
  },
  {
   "cell_type": "markdown",
   "metadata": {},
   "source": [
    "Crea un nuevo diccionario llamado **top_repeticiones**, que contenga las 15 palabras más repetidas del texto."
   ]
  },
  {
   "cell_type": "code",
   "execution_count": 29,
   "metadata": {},
   "outputs": [
    {
     "data": {
      "text/plain": [
       "{'Y': 20,\n",
       " 'del': 19,\n",
       " 'la': 18,\n",
       " 'amor': 17,\n",
       " 'un': 17,\n",
       " 'Verano': 16,\n",
       " 'cóctel': 16,\n",
       " 'molotov': 16,\n",
       " 'de': 14,\n",
       " 'Ya': 8,\n",
       " 'suenan': 8,\n",
       " 'los': 8,\n",
       " 'tambores': 8,\n",
       " 'Siente': 8,\n",
       " 'vibración': 8}"
      ]
     },
     "execution_count": 29,
     "metadata": {},
     "output_type": "execute_result"
    }
   ],
   "source": [
    "# Hay varias maneras de hacerlo, a ver que se os ocurre.\n",
    "top_repeticiones = dict(list(dicc1.items())[:15])\n",
    "top_repeticiones"
   ]
  },
  {
   "cell_type": "markdown",
   "metadata": {},
   "source": [
    "El resto de las palabras que no están en el top, las vamos a agrupar en un nuevo diccionario llamado **resto_repeticiones**"
   ]
  },
  {
   "cell_type": "code",
   "execution_count": 30,
   "metadata": {},
   "outputs": [
    {
     "data": {
      "text/plain": [
       "{'Son': 8,\n",
       " 'niños': 8,\n",
       " 'las': 8,\n",
       " 'flores': 8,\n",
       " 'Es': 8,\n",
       " 'revolución': 8,\n",
       " 'en': 6,\n",
       " 'y': 5,\n",
       " 'no': 4,\n",
       " 'que': 4,\n",
       " 'paz': 2,\n",
       " 'Aunque': 2,\n",
       " 'Que': 2,\n",
       " 'les': 2,\n",
       " 'bien': 2,\n",
       " 'Están': 2,\n",
       " 'es': 2,\n",
       " 'ya': 2,\n",
       " 'lo': 2,\n",
       " 'Con': 2,\n",
       " 'con': 2,\n",
       " 'Mi': 1,\n",
       " 'sonrisa': 1,\n",
       " 'ondea': 1,\n",
       " 'son': 1,\n",
       " 'propios': 1,\n",
       " 'extraños': 1,\n",
       " 'me': 1,\n",
       " 'miren': 1,\n",
       " 'mal': 1,\n",
       " 'Genera': 1,\n",
       " 'tanta': 1,\n",
       " 'luz': 1,\n",
       " 'suele': 1,\n",
       " 'deslumbrar': 1,\n",
       " 'haya': 1,\n",
       " 'subido': 1,\n",
       " 'el': 1,\n",
       " 'nivel': 1,\n",
       " 'mar': 1,\n",
       " 'está': 1,\n",
       " 'retrocediendo': 1,\n",
       " 'otro': 1,\n",
       " 'glaciar': 1,\n",
       " 'A': 1,\n",
       " 'ellos': 1,\n",
       " 'va': 1,\n",
       " 'siguen': 1,\n",
       " 'dando': 1,\n",
       " 'gas': 1,\n",
       " 'Disfrutan': 1,\n",
       " 'otoño': 1,\n",
       " 'tropical': 1,\n",
       " 'playita': 1,\n",
       " 'parece': 1,\n",
       " 'genial': 1,\n",
       " 'Este': 1,\n",
       " 'calor': 1,\n",
       " 'normal': 1,\n",
       " 'morenos': 1,\n",
       " 'calentamiento': 1,\n",
       " 'global': 1,\n",
       " 'Yo': 1,\n",
       " 'soy': 1,\n",
       " 'violento,': 1,\n",
       " 'sabéis': 1,\n",
       " 'Pero': 1,\n",
       " 'estoy': 1,\n",
       " 'tan': 1,\n",
       " 'cansado': 1,\n",
       " 'escuchéis': 1,\n",
       " 'empiezo': 1,\n",
       " 'a': 1,\n",
       " 'dudar': 1,\n",
       " 'No': 1,\n",
       " 'sé': 1,\n",
       " 'muy': 1,\n",
       " 'qué': 1,\n",
       " 'hacer': 1,\n",
       " 'Se': 1,\n",
       " 'abren': 1,\n",
       " 'paragüas': 1,\n",
       " 'Hong': 1,\n",
       " 'Kong': 1,\n",
       " 'En': 1,\n",
       " 'Chile,': 1,\n",
       " 'Bolivia,': 1,\n",
       " 'Ecuador': 1,\n",
       " 'fuegos': 1,\n",
       " 'pasión': 1,\n",
       " 'contenedor': 1,\n",
       " 'aportarán': 1,\n",
       " 'Aquí': 1,\n",
       " 'hace': 1,\n",
       " 'falta': 1,\n",
       " 'poco': 1,\n",
       " 'acción': 1,\n",
       " 'Hay': 1,\n",
       " 'elegir': 1,\n",
       " 'convicción': 1,\n",
       " 'El': 1,\n",
       " 'lado': 1,\n",
       " 'historia': 1,\n",
       " 'estaremos': 1,\n",
       " 'tú': 1,\n",
       " 'yo': 1,\n",
       " 'Basta': 1,\n",
       " 'Mis': 1,\n",
       " 'palabras': 1,\n",
       " 'se': 1,\n",
       " 'han': 1,\n",
       " 'vuelto': 1,\n",
       " 'adoquines': 1,\n",
       " '¿Dónde': 1,\n",
       " 'estás?': 1,\n",
       " 'Han': 1,\n",
       " 'llegado': 1,\n",
       " 'antidisturbios': 1,\n",
       " 'gases,': 1,\n",
       " 'escudos': 1,\n",
       " 'como': 1,\n",
       " 'vas': 1,\n",
       " 'tapada': 1,\n",
       " 'te': 1,\n",
       " 'puedo': 1,\n",
       " 'encontrar': 1}"
      ]
     },
     "execution_count": 30,
     "metadata": {},
     "output_type": "execute_result"
    }
   ],
   "source": [
    "#Tu código aquí\n",
    "resto_repeticiones = dict(list(dicc1.items())[15:])\n",
    "resto_repeticiones"
   ]
  },
  {
   "cell_type": "markdown",
   "metadata": {},
   "source": [
    "¿Podrías hacer un bucle que haga los dos pasos anteriores pero en una sola pasada?"
   ]
  },
  {
   "cell_type": "code",
   "execution_count": 31,
   "metadata": {},
   "outputs": [
    {
     "name": "stdout",
     "output_type": "stream",
     "text": [
      "{'Y': 20, 'del': 19, 'la': 18, 'amor': 17, 'un': 17, 'Verano': 16, 'cóctel': 16, 'molotov': 16, 'de': 14, 'Ya': 8, 'suenan': 8, 'los': 8, 'tambores': 8, 'Siente': 8, 'vibración': 8}\n",
      "{'Son': 8, 'niños': 8, 'las': 8, 'flores': 8, 'Es': 8, 'revolución': 8, 'en': 6, 'y': 5, 'no': 4, 'que': 4, 'paz': 2, 'Aunque': 2, 'Que': 2, 'les': 2, 'bien': 2, 'Están': 2, 'es': 2, 'ya': 2, 'lo': 2, 'Con': 2, 'con': 2, 'Mi': 1, 'sonrisa': 1, 'ondea': 1, 'son': 1, 'propios': 1, 'extraños': 1, 'me': 1, 'miren': 1, 'mal': 1, 'Genera': 1, 'tanta': 1, 'luz': 1, 'suele': 1, 'deslumbrar': 1, 'haya': 1, 'subido': 1, 'el': 1, 'nivel': 1, 'mar': 1, 'está': 1, 'retrocediendo': 1, 'otro': 1, 'glaciar': 1, 'A': 1, 'ellos': 1, 'va': 1, 'siguen': 1, 'dando': 1, 'gas': 1, 'Disfrutan': 1, 'otoño': 1, 'tropical': 1, 'playita': 1, 'parece': 1, 'genial': 1, 'Este': 1, 'calor': 1, 'normal': 1, 'morenos': 1, 'calentamiento': 1, 'global': 1, 'Yo': 1, 'soy': 1, 'violento,': 1, 'sabéis': 1, 'Pero': 1, 'estoy': 1, 'tan': 1, 'cansado': 1, 'escuchéis': 1, 'empiezo': 1, 'a': 1, 'dudar': 1, 'No': 1, 'sé': 1, 'muy': 1, 'qué': 1, 'hacer': 1, 'Se': 1, 'abren': 1, 'paragüas': 1, 'Hong': 1, 'Kong': 1, 'En': 1, 'Chile,': 1, 'Bolivia,': 1, 'Ecuador': 1, 'fuegos': 1, 'pasión': 1, 'contenedor': 1, 'aportarán': 1, 'Aquí': 1, 'hace': 1, 'falta': 1, 'poco': 1, 'acción': 1, 'Hay': 1, 'elegir': 1, 'convicción': 1, 'El': 1, 'lado': 1, 'historia': 1, 'estaremos': 1, 'tú': 1, 'yo': 1, 'Basta': 1, 'Mis': 1, 'palabras': 1, 'se': 1, 'han': 1, 'vuelto': 1, 'adoquines': 1, '¿Dónde': 1, 'estás?': 1, 'Han': 1, 'llegado': 1, 'antidisturbios': 1, 'gases,': 1, 'escudos': 1, 'como': 1, 'vas': 1, 'tapada': 1, 'te': 1, 'puedo': 1, 'encontrar': 1}\n"
     ]
    }
   ],
   "source": [
    "#Tu código aquí\n",
    "dicc10 = {}\n",
    "dicc11 = {}\n",
    "a=0\n",
    "\n",
    "for i in dicc1:\n",
    "    if a <= 14:\n",
    "        dicc10.update({i:dicc1[i]})\n",
    "    else:\n",
    "        dicc11.update({i:dicc1[i]})\n",
    "        \n",
    "    a+=1\n",
    "\n",
    "print(dicc10) #top_15\n",
    "print(dicc11) #otras_repeticiones"
   ]
  },
  {
   "cell_type": "code",
   "execution_count": 32,
   "metadata": {},
   "outputs": [
    {
     "name": "stdout",
     "output_type": "stream",
     "text": [
      "True True\n"
     ]
    }
   ],
   "source": [
    "print(dicc10 == top_repeticiones, dicc11 == resto_repeticiones)"
   ]
  },
  {
   "cell_type": "markdown",
   "metadata": {},
   "source": [
    "### BONUS 😎😎😎 ***push your limits***"
   ]
  },
  {
   "cell_type": "markdown",
   "metadata": {},
   "source": [
    "Ahora quiero que crees un nuevo diccionario llamado **diccionario_infernal**, en este caso las claves serán las distintas longitudes de las palabras y los values serán tuplas donde el primer elemento sea una lista de palabras de esa longitud y el segundo elemento sea el número de palabras de esa longitud."
   ]
  },
  {
   "cell_type": "code",
   "execution_count": 33,
   "metadata": {},
   "outputs": [
    {
     "data": {
      "text/plain": [
       "{1: (['Y', 'y', 'A', 'a'], 4),\n",
       " 2: (['Ya',\n",
       "   'la',\n",
       "   'de',\n",
       "   'Es',\n",
       "   'un',\n",
       "   'Mi',\n",
       "   'en',\n",
       "   'me',\n",
       "   'el',\n",
       "   'va',\n",
       "   'no',\n",
       "   'es',\n",
       "   'Yo',\n",
       "   'ya',\n",
       "   'lo',\n",
       "   'No',\n",
       "   'sé',\n",
       "   'Se',\n",
       "   'En',\n",
       "   'El',\n",
       "   'tú',\n",
       "   'yo',\n",
       "   'se',\n",
       "   'te'],\n",
       "  24),\n",
       " 3: (['los',\n",
       "   'Son',\n",
       "   'las',\n",
       "   'del',\n",
       "   'son',\n",
       "   'paz',\n",
       "   'mal',\n",
       "   'luz',\n",
       "   'Que',\n",
       "   'mar',\n",
       "   'les',\n",
       "   'gas',\n",
       "   'soy',\n",
       "   'tan',\n",
       "   'que',\n",
       "   'muy',\n",
       "   'qué',\n",
       "   'Con',\n",
       "   'Hay',\n",
       "   'con',\n",
       "   'Mis',\n",
       "   'han',\n",
       "   'Han',\n",
       "   'vas'],\n",
       "  24),\n",
       " 4: (['amor',\n",
       "   'haya',\n",
       "   'está',\n",
       "   'otro',\n",
       "   'bien',\n",
       "   'Este',\n",
       "   'Pero',\n",
       "   'Hong',\n",
       "   'Kong',\n",
       "   'Aquí',\n",
       "   'hace',\n",
       "   'poco',\n",
       "   'lado',\n",
       "   'como'],\n",
       "  14),\n",
       " 5: (['niños',\n",
       "   'ondea',\n",
       "   'miren',\n",
       "   'tanta',\n",
       "   'suele',\n",
       "   'nivel',\n",
       "   'ellos',\n",
       "   'dando',\n",
       "   'otoño',\n",
       "   'Están',\n",
       "   'calor',\n",
       "   'estoy',\n",
       "   'dudar',\n",
       "   'hacer',\n",
       "   'abren',\n",
       "   'falta',\n",
       "   'Basta',\n",
       "   'puedo'],\n",
       "  18),\n",
       " 6: (['suenan',\n",
       "   'Siente',\n",
       "   'flores',\n",
       "   'Verano',\n",
       "   'cóctel',\n",
       "   'Aunque',\n",
       "   'Genera',\n",
       "   'subido',\n",
       "   'siguen',\n",
       "   'parece',\n",
       "   'genial',\n",
       "   'normal',\n",
       "   'global',\n",
       "   'sabéis',\n",
       "   'Chile,',\n",
       "   'fuegos',\n",
       "   'pasión',\n",
       "   'acción',\n",
       "   'elegir',\n",
       "   'vuelto',\n",
       "   '¿Dónde',\n",
       "   'estás?',\n",
       "   'gases,',\n",
       "   'tapada'],\n",
       "  24),\n",
       " 7: (['molotov',\n",
       "   'sonrisa',\n",
       "   'propios',\n",
       "   'glaciar',\n",
       "   'playita',\n",
       "   'morenos',\n",
       "   'cansado',\n",
       "   'empiezo',\n",
       "   'Ecuador',\n",
       "   'llegado',\n",
       "   'escudos'],\n",
       "  11),\n",
       " 8: (['tambores',\n",
       "   'extraños',\n",
       "   'tropical',\n",
       "   'paragüas',\n",
       "   'Bolivia,',\n",
       "   'historia',\n",
       "   'palabras'],\n",
       "  7),\n",
       " 9: (['vibración',\n",
       "   'Disfrutan',\n",
       "   'violento,',\n",
       "   'escuchéis',\n",
       "   'aportarán',\n",
       "   'estaremos',\n",
       "   'adoquines',\n",
       "   'encontrar'],\n",
       "  8),\n",
       " 10: (['revolución', 'deslumbrar', 'contenedor', 'convicción'], 4),\n",
       " 13: (['retrocediendo', 'calentamiento'], 2),\n",
       " 14: (['antidisturbios'], 1)}"
      ]
     },
     "execution_count": 33,
     "metadata": {},
     "output_type": "execute_result"
    }
   ],
   "source": [
    "#Tu código aquí\n",
    "\n",
    "#nuevo diccionario diccionario_infernal\n",
    "diccionario_infernal = {}\n",
    "\n",
    "#keys -> longitude das palavras do dicionario\n",
    "for i in dicc:\n",
    "    longi = len(i)\n",
    "    \n",
    "    if longi not in diccionario_infernal.keys():\n",
    "        diccionario_infernal[longi] = [[i], 1]\n",
    "    \n",
    "    else:\n",
    "        diccionario_infernal[longi][0].append(i)\n",
    "        diccionario_infernal[longi][1] +=1\n",
    "            \n",
    "for k,v in diccionario_infernal.items():\n",
    "    diccionario_infernal[k] = tuple(v)\n",
    "    \n",
    "\n",
    "dict(sorted(diccionario_infernal.items()))"
   ]
  },
  {
   "cell_type": "markdown",
   "metadata": {},
   "source": [
    "Vamos a cargar de nuevo el texto completo del archivo texto.txt. El reto es que junteis todo el texto del fichero en una sola string que no tenga espacios , ni saltos de línea, ni signos de puntuación si los hubiera. Pero para que se pueda leer bien, vamos a comvertir todas las primeras letras de cada palabra en mayúsculas. ***Ej: \"hola, que tal?\" --> \"HolaQueTal\"*** 😈👿😈"
   ]
  },
  {
   "cell_type": "code",
   "execution_count": 34,
   "metadata": {},
   "outputs": [
    {
     "data": {
      "text/plain": [
       "'YaSuenanLosTamboresSienteLaVibraciónSonNiñosDeLasFloresEsLaRevoluciónVeranoDelAmorYUnCóctelMolotovVeranoDelAmorYUnCóctelMolotovYaSuenanLosTamboresSienteLaVibraciónSonNiñosDeLasFloresEsLaRevoluciónVeranoDelAmorYUnCóctelMolotovVeranoDelAmorYUnCóctelMolotovMiSonrisaOndeaEnSonDePazAunquePropiosYExtrañosMeMirenMalGeneraTantaLuzQueSueleDeslumbrarAunqueHayaSubidoElNivelDelMarYEstáRetrocediendoOtroGlaciarAEllosLesVaBienYSiguenDandoGasDisfrutanDelOtoñoTropicalEstánEnLaPlayitaYLesPareceGenialEsteCalorNoEsNormalEstánMorenosDelCalentamientoGlobalYaSuenanLosTamboresSienteLaVibraciónSonNiñosDeLasFloresEsLaRevoluciónVeranoDelAmorYUnCóctelMolotovVeranoDelAmorYUnCóctelMolotovYoNoSoyViolentoYaLoSabéisPeroEstoyTanCansadoDeQueNoEscuchéisQueEmpiezoADudarNoSéMuyBienQuéHacerSeAbrenParagüasEnHongKongEnChileEnBoliviaEnEcuadorConFuegosDePasiónYDeContenedorYAportaránPazYAmorAquíLoQueHaceFaltaEsUnPocoDeAcciónHayQueElegirConConvicciónElLadoDeLaHistoriaEnQueEstaremosTúYYoYaSuenanLosTamboresSienteLaVibraciónSonNiñosDeLasFloresEsLaRevoluciónVeranoDelAmorYUnCóctelMolotovVeranoDelAmorYUnCóctelMolotovBastaYaMisPalabrasSeHanVueltoAdoquinesDóndeEstásHanLlegadoAntidisturbiosConGasesConEscudosYComoVasTapadaNoTePuedoEncontrarYaSuenanLosTamboresSienteLaVibraciónSonNiñosDeLasFloresEsLaRevoluciónVeranoDelAmorYUnCóctelMolotovVeranoDelAmorYUnCóctelMolotovYaSuenanLosTamboresSienteLaVibraciónSonNiñosDeLasFloresEsLaRevoluciónVeranoDelAmorYUnCóctelMolotovVeranoDelAmorYUnCóctelMolotovYaSuenanLosTamboresSienteLaVibraciónSonNiñosDeLasFloresEsLaRevoluciónVeranoDelAmorYUnCóctelMolotovVeranoDelAmorYUnCóctelMolotovYaSuenanLosTamboresSienteLaVibraciónSonNiñosDeLasFloresEsLaRevoluciónVeranoDelAmorYUnCóctelMolotovVeranoDelAmorYUnCóctelMolotov'"
      ]
     },
     "execution_count": 34,
     "metadata": {},
     "output_type": "execute_result"
    }
   ],
   "source": [
    "#Tu código aquí\n",
    "\n",
    "contenido = open(\"texto.txt\", \"r\") #abre el archivo en modo lectura\n",
    "texto = contenido.read() #lee el archivo y lo guarda en la variable texto\n",
    "texto = texto.replace('\\n',' ')\n",
    "texto = texto.split(' ')\n",
    "\n",
    "for i in range(len(texto)):\n",
    "    for a in texto[i]:\n",
    "        if a.isalpha() == False:\n",
    "            texto[i]=texto[i].replace(a,'')\n",
    "    \n",
    "    texto[i] = texto[i].capitalize()\n",
    "\n",
    "\n",
    "x = \"\".join(texto)\n",
    "x\n",
    "#texto.capitalize()"
   ]
  }
 ],
 "metadata": {
  "kernelspec": {
   "display_name": "Python 3 (ipykernel)",
   "language": "python",
   "name": "python3"
  },
  "language_info": {
   "codemirror_mode": {
    "name": "ipython",
    "version": 3
   },
   "file_extension": ".py",
   "mimetype": "text/x-python",
   "name": "python",
   "nbconvert_exporter": "python",
   "pygments_lexer": "ipython3",
   "version": "3.10.9"
  }
 },
 "nbformat": 4,
 "nbformat_minor": 2
}
